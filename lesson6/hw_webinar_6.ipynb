{
  "cells": [
    {
      "cell_type": "markdown",
      "metadata": {
        "id": "view-in-github",
        "colab_type": "text"
      },
      "source": [
        "<a href=\"https://colab.research.google.com/github/ddekun/Recommendation_systems/blob/lesson6/lesson6/hw_webinar_6.ipynb\" target=\"_parent\"><img src=\"https://colab.research.google.com/assets/colab-badge.svg\" alt=\"Open In Colab\"/></a>"
      ]
    },
    {
      "cell_type": "markdown",
      "metadata": {
        "id": "nMBdGcvjC4Ji"
      },
      "source": [
        "# Вебинар 6. Двухуровневые модели рекомендаций\n"
      ]
    },
    {
      "cell_type": "markdown",
      "metadata": {
        "id": "3Jgaacz0C4Jl"
      },
      "source": [
        "Код для src, utils, metrics вы можете скачать из [этого](https://github.com/geangohn/recsys-tutorial) github репозитория"
      ]
    },
    {
      "cell_type": "code",
      "execution_count": null,
      "metadata": {
        "id": "5Aur99NsC4Jm"
      },
      "outputs": [],
      "source": [
        "import pandas as pd\n",
        "import numpy as np\n",
        "import matplotlib.pyplot as plt\n",
        "%matplotlib inline\n",
        "\n",
        "# Для работы с матрицами\n",
        "from scipy.sparse import csr_matrix\n",
        "\n",
        "# Матричная факторизация\n",
        "from implicit import als\n",
        "\n",
        "# Модель второго уровня\n",
        "from lightgbm import LGBMClassifier\n",
        "\n",
        "import os, sys\n",
        "module_path = os.path.abspath(os.path.join(os.pardir))\n",
        "if module_path not in sys.path:\n",
        "    sys.path.append(module_path)\n",
        "\n",
        "# Написанные нами функции\n",
        "from src.metrics import precision_at_k, recall_at_k\n",
        "from src.utils import prefilter_items\n",
        "from src.recommenders import MainRecommender"
      ]
    },
    {
      "cell_type": "code",
      "execution_count": null,
      "metadata": {
        "id": "vso_erSdC4Jo",
        "outputId": "da20dbf1-3086-4fd6-ac92-f7653d7f9f71"
      },
      "outputs": [
        {
          "data": {
            "text/html": [
              "<div>\n",
              "<style scoped>\n",
              "    .dataframe tbody tr th:only-of-type {\n",
              "        vertical-align: middle;\n",
              "    }\n",
              "\n",
              "    .dataframe tbody tr th {\n",
              "        vertical-align: top;\n",
              "    }\n",
              "\n",
              "    .dataframe thead th {\n",
              "        text-align: right;\n",
              "    }\n",
              "</style>\n",
              "<table border=\"1\" class=\"dataframe\">\n",
              "  <thead>\n",
              "    <tr style=\"text-align: right;\">\n",
              "      <th></th>\n",
              "      <th>user_id</th>\n",
              "      <th>basket_id</th>\n",
              "      <th>day</th>\n",
              "      <th>item_id</th>\n",
              "      <th>quantity</th>\n",
              "      <th>sales_value</th>\n",
              "      <th>store_id</th>\n",
              "      <th>retail_disc</th>\n",
              "      <th>trans_time</th>\n",
              "      <th>week_no</th>\n",
              "      <th>coupon_disc</th>\n",
              "      <th>coupon_match_disc</th>\n",
              "    </tr>\n",
              "  </thead>\n",
              "  <tbody>\n",
              "    <tr>\n",
              "      <th>0</th>\n",
              "      <td>2375</td>\n",
              "      <td>26984851472</td>\n",
              "      <td>1</td>\n",
              "      <td>1004906</td>\n",
              "      <td>1</td>\n",
              "      <td>1.39</td>\n",
              "      <td>364</td>\n",
              "      <td>-0.6</td>\n",
              "      <td>1631</td>\n",
              "      <td>1</td>\n",
              "      <td>0.0</td>\n",
              "      <td>0.0</td>\n",
              "    </tr>\n",
              "    <tr>\n",
              "      <th>1</th>\n",
              "      <td>2375</td>\n",
              "      <td>26984851472</td>\n",
              "      <td>1</td>\n",
              "      <td>1033142</td>\n",
              "      <td>1</td>\n",
              "      <td>0.82</td>\n",
              "      <td>364</td>\n",
              "      <td>0.0</td>\n",
              "      <td>1631</td>\n",
              "      <td>1</td>\n",
              "      <td>0.0</td>\n",
              "      <td>0.0</td>\n",
              "    </tr>\n",
              "  </tbody>\n",
              "</table>\n",
              "</div>"
            ],
            "text/plain": [
              "   user_id    basket_id  day  item_id  quantity  sales_value  store_id  \\\n",
              "0     2375  26984851472    1  1004906         1         1.39       364   \n",
              "1     2375  26984851472    1  1033142         1         0.82       364   \n",
              "\n",
              "   retail_disc  trans_time  week_no  coupon_disc  coupon_match_disc  \n",
              "0         -0.6        1631        1          0.0                0.0  \n",
              "1          0.0        1631        1          0.0                0.0  "
            ]
          },
          "execution_count": 4,
          "metadata": {
            "tags": []
          },
          "output_type": "execute_result"
        }
      ],
      "source": [
        "data = pd.read_csv('retail_train.csv')\n",
        "item_features = pd.read_csv('product.csv')\n",
        "user_features = pd.read_csv('hh_demographic.csv')\n",
        "\n",
        "# column processing\n",
        "item_features.columns = [col.lower() for col in item_features.columns]\n",
        "user_features.columns = [col.lower() for col in user_features.columns]\n",
        "\n",
        "item_features.rename(columns={'product_id': 'item_id'}, inplace=True)\n",
        "user_features.rename(columns={'household_key': 'user_id'}, inplace=True)\n",
        "\n",
        "\n",
        "# Важна схема обучения и валидации!\n",
        "# -- давние покупки -- | -- 6 недель -- | -- 3 недель -- \n",
        "# подобрать размер 2-ого датасета (6 недель) --> learning curve (зависимость метрики recall@k от размера датасета)\n",
        "val_lvl_1_size_weeks = 6\n",
        "val_lvl_2_size_weeks = 3\n",
        "\n",
        "data_train_lvl_1 = data[data['week_no'] < data['week_no'].max() - (val_lvl_1_size_weeks + val_lvl_2_size_weeks)]\n",
        "data_val_lvl_1 = data[(data['week_no'] >= data['week_no'].max() - (val_lvl_1_size_weeks + val_lvl_2_size_weeks)) &\n",
        "                      (data['week_no'] < data['week_no'].max() - (val_lvl_2_size_weeks))]\n",
        "\n",
        "data_train_lvl_2 = data_val_lvl_1.copy()  # Для наглядности. Далее мы добавим изменения, и они будут отличаться\n",
        "data_val_lvl_2 = data[data['week_no'] >= data['week_no'].max() - val_lvl_2_size_weeks]\n",
        "\n",
        "data_train_lvl_1.head(2)"
      ]
    },
    {
      "cell_type": "code",
      "execution_count": null,
      "metadata": {
        "id": "zcnV3l4XC4Jp",
        "outputId": "d58f889c-0671-4bb9-b2b6-2dc2e8c24fce"
      },
      "outputs": [
        {
          "name": "stdout",
          "output_type": "stream",
          "text": [
            "Decreased # items from 83685 to 5001\n"
          ]
        }
      ],
      "source": [
        "n_items_before = data_train_lvl_1['item_id'].nunique()\n",
        "\n",
        "data_train_lvl_1 = prefilter_items(data_train_lvl_1, item_features=item_features, take_n_popular=5000)\n",
        "\n",
        "n_items_after = data_train_lvl_1['item_id'].nunique()\n",
        "print('Decreased # items from {} to {}'.format(n_items_before, n_items_after))"
      ]
    },
    {
      "cell_type": "code",
      "execution_count": null,
      "metadata": {
        "colab": {
          "referenced_widgets": [
            "729d4287bb794971802d9da5e141f10a",
            "32375ef613474af6a0fcadb9255eb835"
          ]
        },
        "id": "zgYXRQ0lC4Jq",
        "outputId": "d9ea41ae-3b4d-41b4-fc46-90868ebb9894"
      },
      "outputs": [
        {
          "name": "stderr",
          "output_type": "stream",
          "text": [
            "WARNING:root:Intel MKL BLAS detected. Its highly recommend to set the environment variable 'export MKL_NUM_THREADS=1' to disable its internal multithreading\n"
          ]
        },
        {
          "data": {
            "application/vnd.jupyter.widget-view+json": {
              "model_id": "729d4287bb794971802d9da5e141f10a",
              "version_major": 2,
              "version_minor": 0
            },
            "text/plain": [
              "HBox(children=(FloatProgress(value=0.0, max=15.0), HTML(value='')))"
            ]
          },
          "metadata": {
            "tags": []
          },
          "output_type": "display_data"
        },
        {
          "name": "stdout",
          "output_type": "stream",
          "text": [
            "\n"
          ]
        },
        {
          "data": {
            "application/vnd.jupyter.widget-view+json": {
              "model_id": "32375ef613474af6a0fcadb9255eb835",
              "version_major": 2,
              "version_minor": 0
            },
            "text/plain": [
              "HBox(children=(FloatProgress(value=0.0, max=5001.0), HTML(value='')))"
            ]
          },
          "metadata": {
            "tags": []
          },
          "output_type": "display_data"
        },
        {
          "name": "stdout",
          "output_type": "stream",
          "text": [
            "\n"
          ]
        }
      ],
      "source": [
        "recommender = MainRecommender(data_train_lvl_1)"
      ]
    },
    {
      "cell_type": "code",
      "execution_count": null,
      "metadata": {
        "id": "xB9JX5swC4Jr",
        "outputId": "af05502b-1fb9-42b6-919c-b915ac3a0106"
      },
      "outputs": [
        {
          "data": {
            "text/plain": [
              "[899624, 1106523, 1044078, 871756, 844179]"
            ]
          },
          "execution_count": 5,
          "metadata": {
            "tags": []
          },
          "output_type": "execute_result"
        }
      ],
      "source": [
        "recommender.get_als_recommendations(2375, N=5)"
      ]
    },
    {
      "cell_type": "code",
      "execution_count": null,
      "metadata": {
        "id": "PNVa6jWLC4Jr",
        "outputId": "c69395e4-8171-41f1-c0c4-067b582f26e0"
      },
      "outputs": [
        {
          "data": {
            "text/plain": [
              "[948640, 918046, 847962, 907099, 873980]"
            ]
          },
          "execution_count": 6,
          "metadata": {
            "tags": []
          },
          "output_type": "execute_result"
        }
      ],
      "source": [
        "recommender.get_own_recommendations(2375, N=5)"
      ]
    },
    {
      "cell_type": "code",
      "execution_count": null,
      "metadata": {
        "id": "0NoB_lSJC4Js",
        "outputId": "9f91a42c-08bf-4037-fca1-54db5a5cafee"
      },
      "outputs": [
        {
          "data": {
            "text/plain": [
              "[1046545, 1044078, 1044078, 1078652, 1018809]"
            ]
          },
          "execution_count": 7,
          "metadata": {
            "tags": []
          },
          "output_type": "execute_result"
        }
      ],
      "source": [
        "recommender.get_similar_items_recommendation(2375, N=5)"
      ]
    },
    {
      "cell_type": "code",
      "execution_count": null,
      "metadata": {
        "id": "GdQO5CWKC4Js",
        "outputId": "08936fbf-715f-412a-9fbe-065816bb6a90"
      },
      "outputs": [
        {
          "data": {
            "text/plain": [
              "[1101502, 979674, 10457044, 974265, 959455]"
            ]
          },
          "execution_count": 8,
          "metadata": {
            "tags": []
          },
          "output_type": "execute_result"
        }
      ],
      "source": [
        "recommender.get_similar_users_recommendation(2375, N=5)"
      ]
    },
    {
      "cell_type": "markdown",
      "metadata": {
        "id": "Bqs9Sw_YC4Jt"
      },
      "source": [
        "### Задание 1\n",
        "\n",
        "A) Попробуйте различные варианты генерации кандидатов. Какие из них дают наибольший recall@k ?\n",
        "- Пока пробуем отобрать 50 кандидатов (k=50)\n",
        "- Качество измеряем на data_val_lvl_1: следующие 6 недель после трейна\n",
        "\n",
        "Дают ли own recommendtions + top-popular лучший recall?  \n",
        "\n",
        "B)* Как зависит recall@k от k? Постройте для одной схемы генерации кандидатов эту зависимость для k = {20, 50, 100, 200, 500}  \n",
        "C)* Исходя из прошлого вопроса, как вы думаете, какое значение k является наиболее разумным?\n"
      ]
    },
    {
      "cell_type": "code",
      "execution_count": null,
      "metadata": {
        "id": "frt2RzDWC4Jt",
        "outputId": "7c594abf-4a34-406b-9897-8bfbddf69a93"
      },
      "outputs": [
        {
          "data": {
            "text/html": [
              "<div>\n",
              "<style scoped>\n",
              "    .dataframe tbody tr th:only-of-type {\n",
              "        vertical-align: middle;\n",
              "    }\n",
              "\n",
              "    .dataframe tbody tr th {\n",
              "        vertical-align: top;\n",
              "    }\n",
              "\n",
              "    .dataframe thead th {\n",
              "        text-align: right;\n",
              "    }\n",
              "</style>\n",
              "<table border=\"1\" class=\"dataframe\">\n",
              "  <thead>\n",
              "    <tr style=\"text-align: right;\">\n",
              "      <th></th>\n",
              "      <th>user_id</th>\n",
              "      <th>actual</th>\n",
              "    </tr>\n",
              "  </thead>\n",
              "  <tbody>\n",
              "    <tr>\n",
              "      <th>0</th>\n",
              "      <td>1</td>\n",
              "      <td>[853529, 865456, 867607, 872137, 874905, 87524...</td>\n",
              "    </tr>\n",
              "    <tr>\n",
              "      <th>1</th>\n",
              "      <td>2</td>\n",
              "      <td>[15830248, 838136, 839656, 861272, 866211, 870...</td>\n",
              "    </tr>\n",
              "  </tbody>\n",
              "</table>\n",
              "</div>"
            ],
            "text/plain": [
              "   user_id                                             actual\n",
              "0        1  [853529, 865456, 867607, 872137, 874905, 87524...\n",
              "1        2  [15830248, 838136, 839656, 861272, 866211, 870..."
            ]
          },
          "execution_count": 9,
          "metadata": {
            "tags": []
          },
          "output_type": "execute_result"
        }
      ],
      "source": [
        "result_lvl_1 = data_val_lvl_1.groupby('user_id')['item_id'].unique().reset_index()\n",
        "result_lvl_1.columns=['user_id', 'actual']\n",
        "result_lvl_1.head(2)"
      ]
    },
    {
      "cell_type": "code",
      "execution_count": null,
      "metadata": {
        "id": "xM5W4mU4C4Jt"
      },
      "outputs": [],
      "source": [
        "cold_users = np.setdiff1d(result_lvl_1['user_id'], data_train_lvl_1['user_id']).tolist()\n",
        "result_lvl_1 = result_lvl_1[~result_lvl_1['user_id'].isin(cold_users)]"
      ]
    },
    {
      "cell_type": "code",
      "execution_count": null,
      "metadata": {
        "id": "XdPSs1dTuijt"
      },
      "outputs": [],
      "source": [
        "result_lvl_1['als_rec'] = result_lvl_1['user_id'].apply(lambda x: recommender.get_als_recommendations(x, N=50))\n",
        "result_lvl_1['sim_items_rec'] = result_lvl_1['user_id'].apply(lambda x: recommender.get_similar_items_recommendation(x, N=50))\n",
        "result_lvl_1['own_rec'] = result_lvl_1['user_id'].apply(lambda x: recommender.get_own_recommendations(x, N=50))\n",
        "result_lvl_1['top_rec'] = [recommender.overall_top_purchases[:50] for x in np.arange(len(result_lvl_1))]\n",
        "result_lvl_1.head(5)"
      ]
    },
    {
      "cell_type": "code",
      "execution_count": null,
      "metadata": {
        "id": "rLAeglO0uijt"
      },
      "outputs": [],
      "source": [
        "recall_als = result_lvl_1.apply(lambda row: recall_at_k(row['als_rec'], row['actual'], k=50), axis=1).mean()\n",
        "recall_sim_items = result_lvl_1.apply(lambda row: recall_at_k(row['sim_items_rec'],\n",
        "                                                                  row['actual'], k=50), axis=1).mean()\n",
        "recall_own = result_lvl_1.apply(lambda row: recall_at_k(row['own_rec'], row['actual'], k=50), axis=1).mean()\n",
        "recall_top = result_lvl_1.apply(lambda row: recall_at_k(row['top_rec'], row['actual'], k=50), axis=1).mean()\n",
        "\n",
        "print('Recall@50:')\n",
        "print(f'als_rec      : {recall_als:.6f}')\n",
        "print(f'sim_items_rec: {recall_sim_items:.6f}')\n",
        "print(f'own_rec      : {recall_own:.6f}')\n",
        "print(f'top_rec      : {recall_top:.6f}')"
      ]
    },
    {
      "cell_type": "code",
      "execution_count": null,
      "metadata": {
        "id": "Fao-z774uijt"
      },
      "outputs": [],
      "source": [
        "result_lvl_1['own_rec20']  = result_lvl_1['user_id'].apply(lambda x: recommender.get_own_recommendations(x, N=20))\n",
        "result_lvl_1['own_rec100'] = result_lvl_1['user_id'].apply(lambda x: recommender.get_own_recommendations(x, N=100))\n",
        "result_lvl_1['own_rec200'] = result_lvl_1['user_id'].apply(lambda x: recommender.get_own_recommendations(x, N=200))\n",
        "result_lvl_1['own_rec500'] = result_lvl_1['user_id'].apply(lambda x: recommender.get_own_recommendations(x, N=500))\n",
        "result_lvl_1.head(5)"
      ]
    },
    {
      "cell_type": "code",
      "execution_count": null,
      "metadata": {
        "id": "KEpk0LpUuiju"
      },
      "outputs": [],
      "source": [
        "rec_own20  = result_lvl_1.apply(lambda row: recall_at_k(row['own_rec20'],  row['actual'], k=20),  axis=1).mean()\n",
        "rec_own50  = result_lvl_1.apply(lambda row: recall_at_k(row['own_rec'],    row['actual'], k=50),  axis=1).mean()\n",
        "rec_own100 = result_lvl_1.apply(lambda row: recall_at_k(row['own_rec100'], row['actual'], k=100), axis=1).mean()\n",
        "rec_own200 = result_lvl_1.apply(lambda row: recall_at_k(row['own_rec200'], row['actual'], k=200), axis=1).mean()\n",
        "rec_own500 = result_lvl_1.apply(lambda row: recall_at_k(row['own_rec500'], row['actual'], k=500), axis=1).mean()\n",
        "print(f'Own Recall@20 : {rec_own20:.6f}')\n",
        "print(f'Own Recall@50 : {rec_own50:.6f}')\n",
        "print(f'Own Recall@100: {rec_own100:.6f}')\n",
        "print(f'Own Recall@200: {rec_own200:.6f}')\n",
        "print(f'Own Recall@500: {rec_own500:.6f}')"
      ]
    },
    {
      "cell_type": "code",
      "execution_count": null,
      "metadata": {
        "id": "t5hpfCG5uiju"
      },
      "outputs": [],
      "source": [
        "recall = []\n",
        "recall.append(rec_own20)\n",
        "recall.append(rec_own50)\n",
        "recall.append(rec_own100)\n",
        "recall.append(rec_own200)\n",
        "recall.append(rec_own500)\n",
        "plt.plot(np.array([20, 50, 100, 200, 500]), np.array(recall))\n",
        "plt.show()"
      ]
    },
    {
      "cell_type": "markdown",
      "metadata": {
        "id": "bAHJu3Z5C4Ju"
      },
      "source": [
        "### Задание 2.\n",
        "\n",
        "Обучите модель 2-ого уровня, при этом:\n",
        "    - Добавьте минимум по 2 фичи для юзера, товара и пары юзер-товар\n",
        "    - Измерьте отдельно precision@5 модели 1-ого уровня и двухуровневой модели на data_val_lvl_2\n",
        "    - Вырос ли precision@5 при использовании двухуровневой модели?"
      ]
    },
    {
      "cell_type": "code",
      "execution_count": null,
      "metadata": {
        "id": "XZQcrch7C4Ju"
      },
      "outputs": [],
      "source": [
        "data_val_lvl_2.head()"
      ]
    },
    {
      "cell_type": "code",
      "execution_count": null,
      "metadata": {
        "id": "VrA9aqkFuijv"
      },
      "outputs": [],
      "source": [
        "own_candidates = result_lvl_1[['user_id', 'own_rec500']]\n",
        "own_candidates.head()"
      ]
    },
    {
      "cell_type": "code",
      "execution_count": null,
      "metadata": {
        "id": "9Jho0Nu_uijv"
      },
      "outputs": [],
      "source": [
        "valid_lvl_2 = data_val_lvl_2.groupby('user_id')['item_id'].unique().reset_index().rename(columns={'item_id': 'actual'})\n",
        "valid_lvl_2 = valid_lvl_2.merge(own_candidates, on='user_id', how='left')"
      ]
    },
    {
      "cell_type": "code",
      "execution_count": null,
      "metadata": {
        "id": "wpSlCql2uijv"
      },
      "outputs": [],
      "source": [
        "valid_lvl_2.head()"
      ]
    },
    {
      "cell_type": "code",
      "execution_count": null,
      "metadata": {
        "id": "pXIHanAFuijv"
      },
      "outputs": [],
      "source": [
        "# Точность\n",
        "valid_lvl_2[valid_lvl_2.own_rec500.notna()].apply(lambda row: precision_at_k(row['own_rec500'],row['actual'], k=5), axis=1).mean()"
      ]
    },
    {
      "cell_type": "code",
      "execution_count": null,
      "metadata": {
        "id": "MjJMpsIuuijv"
      },
      "outputs": [],
      "source": [
        "# Новые признаки для товара\n",
        "def new_item_features(data, item_features):\n",
        "    \n",
        "    # Цена\n",
        "    data['price'] = data['sales_value'] / (np.maximum(data['quantity'], 1))\n",
        "    new_item_features = item_features.merge(data, on='item_id', how='left')\n",
        "    \n",
        "    # Средняя цена по категории\n",
        "    avg_price_by_cat = new_item_features.groupby('commodity_desc')['price'].mean()\n",
        "    item_features = item_features.merge(avg_price_by_cat, on='commodity_desc', how='left').rename(columns={'price_x': 'price', 'price_y': 'avg_price'})    \n",
        "\n",
        "    # Количество продаж и среднее количество продаж товара\n",
        "    item_qnt = new_item_features.groupby(['item_id'])['quantity'].count().reset_index()\n",
        "    item_qnt.rename(columns={'quantity': 'quantity_of_sales'}, inplace=True)\n",
        "    item_qnt['quantity_of_sales_per_week'] = item_qnt['quantity_of_sales'] / new_item_features['week_no'].nunique()\n",
        "    item_features = item_features.merge(item_qnt, on='item_id')\n",
        "    \n",
        "    return item_features"
      ]
    },
    {
      "cell_type": "code",
      "execution_count": null,
      "metadata": {
        "id": "ktM9h20-uijw"
      },
      "outputs": [],
      "source": [
        "# Новые признаки для пользователя\n",
        "def new_user_features(data, user_features):\n",
        "    \n",
        "    new_user_features = user_features.merge(data, on='user_id', how='left')\n",
        "\n",
        "    # Сумма чека\n",
        "    basket = new_user_features.groupby(['user_id'])['sales_value'].sum().reset_index()\n",
        "    baskets_qnt = new_user_features.groupby('user_id')['basket_id'].count().reset_index()\n",
        "    baskets_qnt.rename(columns={'basket_id': 'baskets_qnt'}, inplace=True)\n",
        "    # Средний недельный чек\n",
        "    average_basket = basket.merge(baskets_qnt)\n",
        "    average_basket['average_basket'] = average_basket.sales_value / average_basket.baskets_qnt\n",
        "    average_basket['sum_per_week'] = average_basket.sales_value / new_user_features.week_no.nunique()\n",
        "    average_basket = average_basket.drop(['sales_value', 'baskets_qnt'], axis=1)\n",
        "    user_features = user_features.merge(average_basket, on='user_id')\n",
        "\n",
        "    return user_features"
      ]
    },
    {
      "cell_type": "code",
      "execution_count": null,
      "metadata": {
        "id": "Q9Qkj3x1uijw"
      },
      "outputs": [],
      "source": [
        "item_features = new_item_features(data_train_lvl_2, item_features)\n",
        "user_features = new_user_features(data_train_lvl_2, user_features)"
      ]
    },
    {
      "cell_type": "code",
      "execution_count": null,
      "metadata": {
        "id": "2ccZ4d88uijw"
      },
      "outputs": [],
      "source": [
        "item_features.head()"
      ]
    },
    {
      "cell_type": "code",
      "execution_count": null,
      "metadata": {
        "id": "zmWhpd5ruijw"
      },
      "outputs": [],
      "source": [
        "user_features.head()"
      ]
    },
    {
      "cell_type": "code",
      "execution_count": null,
      "metadata": {
        "id": "zSFUkAoluijx"
      },
      "outputs": [],
      "source": [
        "def train_test_preprocessing(data):    \n",
        "    \n",
        "    users_lvl_2 = pd.DataFrame(data['user_id'].unique())\n",
        "    users_lvl_2.columns = ['user_id']\n",
        "\n",
        "    train_users = data_train_lvl_1['user_id'].unique()\n",
        "    train_users.shape\n",
        "\n",
        "    users_lvl_2 = users_lvl_2[users_lvl_2['user_id'].isin(train_users)]\n",
        "    users_lvl_2['candidates'] = users_lvl_2['user_id'].apply(lambda x: recommender.get_own_recommendations(x, N=500))\n",
        "    \n",
        "    s = users_lvl_2.apply(lambda x: pd.Series(x['candidates']), axis=1).stack().reset_index(level=1, drop=True)\n",
        "    s.name = 'item_id'\n",
        "    users_lvl_2 = users_lvl_2.drop('candidates', axis=1).join(s)\n",
        "    users_lvl_2['flag'] = 1\n",
        "\n",
        "    targets_lvl_2 = data[['user_id', 'item_id']].copy()\n",
        "    targets_lvl_2['target'] = 1  \n",
        "    targets_lvl_2 = users_lvl_2.merge(targets_lvl_2, on=['user_id', 'item_id'], how='left')\n",
        "    targets_lvl_2['target'].fillna(0, inplace= True)\n",
        "    targets_lvl_2.drop('flag', axis=1, inplace=True)\n",
        "\n",
        "    targets_lvl_2 = targets_lvl_2.merge(item_features, on='item_id', how='left')\n",
        "    targets_lvl_2 = targets_lvl_2.merge(user_features, on='user_id', how='left')\n",
        "\n",
        "    X = targets_lvl_2.drop('target', axis=1)\n",
        "    y = targets_lvl_2['target'].ravel()\n",
        "    \n",
        "    return X, y"
      ]
    },
    {
      "cell_type": "code",
      "execution_count": null,
      "metadata": {
        "id": "LAE8VByyuijx"
      },
      "outputs": [],
      "source": [
        "X_train, y_train = train_test_preprocessing(data_train_lvl_2)"
      ]
    },
    {
      "cell_type": "code",
      "execution_count": null,
      "metadata": {
        "id": "U5Dlh-aWuijx"
      },
      "outputs": [],
      "source": [
        "X_train.head().T"
      ]
    },
    {
      "cell_type": "code",
      "execution_count": null,
      "metadata": {
        "id": "ZcVBB7aIuijx"
      },
      "outputs": [],
      "source": [
        "cat_feats = ['manufacturer', 'department', 'brand', 'commodity_desc', 'sub_commodity_desc',\n",
        "             'curr_size_of_product', 'age_desc', 'marital_status_code', 'income_desc',\n",
        "             'homeowner_desc', 'hh_comp_desc', 'household_size_desc', 'kid_category_desc']\n",
        "\n",
        "X_train[cat_feats] = X_train[cat_feats].astype('category')\n",
        "X_test, y_test = train_test_preprocessing(data_val_lvl_2)\n",
        "X_test[cat_feats] = X_test[cat_feats].astype('category')"
      ]
    },
    {
      "cell_type": "code",
      "execution_count": null,
      "metadata": {
        "id": "DdUaA9GWuijy"
      },
      "outputs": [],
      "source": [
        "%%time\n",
        "lgb = LGBMClassifier(objective='binary', max_depth = 7)\n",
        "lgb.fit(X_train, y_train)"
      ]
    },
    {
      "cell_type": "code",
      "execution_count": null,
      "metadata": {
        "id": "PD5VMfsouijy"
      },
      "outputs": [],
      "source": [
        "feature = list(zip(X_train.columns.tolist(), lgb.feature_importances_))\n",
        "feature = pd.DataFrame(feature, columns=['feature', 'value'])\n",
        "feature"
      ]
    },
    {
      "cell_type": "code",
      "execution_count": null,
      "metadata": {
        "id": "RTTUvMXauijy"
      },
      "outputs": [],
      "source": [
        "def get_important_features(model, X_train, y_train):\n",
        "    # Отбор важных признаков\n",
        "    model.fit(X_train, y_train)\n",
        "    feature = list(zip(X_train.columns.tolist(), model.feature_importances_))\n",
        "    feature = pd.DataFrame(feature, columns=['feature', 'value'])\n",
        "    features = feature.loc[feature.value > 0, 'feature'].tolist()\n",
        "    return features"
      ]
    },
    {
      "cell_type": "code",
      "execution_count": null,
      "metadata": {
        "id": "QEtVzMLXuijy"
      },
      "outputs": [],
      "source": [
        "important_features = get_important_features(lgb, X_train, y_train)\n",
        "important_features"
      ]
    },
    {
      "cell_type": "code",
      "execution_count": null,
      "metadata": {
        "id": "ZxVWSWKkuijy"
      },
      "outputs": [],
      "source": [
        "%%time\n",
        "lgb.fit(X_train[important_features], y_train)"
      ]
    },
    {
      "cell_type": "code",
      "execution_count": null,
      "metadata": {
        "id": "UcDSuowZuijz"
      },
      "outputs": [],
      "source": [
        "test_preds_proba = lgb.predict_proba(X_test[important_features])[:, 1]\n",
        "test_preds_proba[:10]"
      ]
    },
    {
      "cell_type": "code",
      "execution_count": null,
      "metadata": {
        "id": "ZytRaPJruijz"
      },
      "outputs": [],
      "source": [
        "def get_final_recomendation(X_test, test_preds_proba, data_val_lvl_2):\n",
        "    \n",
        "    X_test['predict_proba'] = test_preds_proba\n",
        "    X_test.sort_values(['user_id', 'predict_proba'], ascending=[True, False], inplace=True)\n",
        "    lgb_candidates = X_test.groupby('user_id').head(5).groupby('user_id')['item_id'].unique().reset_index()\n",
        "    \n",
        "    result_lvl_2 = data_val_lvl_2.groupby('user_id')['item_id'].unique().reset_index().rename(columns={'item_id': 'actual'})\n",
        "    result_lvl_2 = result_lvl_2.merge(lgb_candidates, on='user_id', how='left')\n",
        "    result_lvl_2.rename(columns={'item_id': 'lgb_candidates'}, inplace=True)\n",
        "    \n",
        "    return result_lvl_2"
      ]
    },
    {
      "cell_type": "code",
      "execution_count": null,
      "metadata": {
        "id": "YftVdbFhuijz"
      },
      "outputs": [],
      "source": [
        "result_lvl_2 = get_final_recomendation(X_test, test_preds_proba, data_val_lvl_2)"
      ]
    },
    {
      "cell_type": "code",
      "execution_count": null,
      "metadata": {
        "id": "SYKwqemQuijz"
      },
      "outputs": [],
      "source": [
        "result_lvl_2.head()"
      ]
    },
    {
      "cell_type": "code",
      "execution_count": null,
      "metadata": {
        "id": "UFXVdeSpuijz"
      },
      "outputs": [],
      "source": [
        "# Точность\n",
        "result_lvl_2[result_lvl_2.lgb_candidates.notna()].apply(lambda row: precision_at_k(row['lgb_candidates'], row['actual'], k=5), axis=1).mean()"
      ]
    }
  ],
  "metadata": {
    "colab": {
      "provenance": [],
      "include_colab_link": true
    },
    "kernelspec": {
      "display_name": "Python 3 (ipykernel)",
      "language": "python",
      "name": "python3"
    },
    "language_info": {
      "codemirror_mode": {
        "name": "ipython",
        "version": 3
      },
      "file_extension": ".py",
      "mimetype": "text/x-python",
      "name": "python",
      "nbconvert_exporter": "python",
      "pygments_lexer": "ipython3",
      "version": "3.9.16"
    }
  },
  "nbformat": 4,
  "nbformat_minor": 0
}