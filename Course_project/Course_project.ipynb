{
  "cells": [
    {
      "cell_type": "markdown",
      "metadata": {
        "id": "view-in-github",
        "colab_type": "text"
      },
      "source": [
        "<a href=\"https://colab.research.google.com/github/ddekun/Recommendation_systems/blob/course_project/Course_project/Course_project.ipynb\" target=\"_parent\"><img src=\"https://colab.research.google.com/assets/colab-badge.svg\" alt=\"Open In Colab\"/></a>"
      ]
    },
    {
      "cell_type": "markdown",
      "metadata": {
        "id": "MgrtQvpomigf"
      },
      "source": [
        "# Рекомендательные системы. Курсовой проект."
      ]
    },
    {
      "cell_type": "markdown",
      "metadata": {
        "id": "icPrG1hrmigi"
      },
      "source": [
        "---"
      ]
    },
    {
      "cell_type": "markdown",
      "metadata": {
        "id": "ZHuNJgvLsh4V"
      },
      "source": [
        "**Целевая метрика precision@5**"
      ]
    },
    {
      "cell_type": "code",
      "execution_count": null,
      "metadata": {
        "id": "Dg4nN0zAsh4W"
      },
      "outputs": [],
      "source": [
        "import pandas as pd\n",
        "import numpy as np\n",
        "\n",
        "import os\n",
        "os.environ['MKL_NUM_THREADS'] = '1'\n",
        "\n",
        "# Для работы с матрицами\n",
        "from scipy.sparse import csr_matrix\n",
        "# Матричная факторизация\n",
        "from implicit import als\n",
        "# Модель второго уровня\n",
        "from lightgbm import LGBMClassifier\n",
        "\n",
        "import os, sys\n",
        "module_path = os.path.abspath(os.path.join(os.pardir))\n",
        "if module_path not in sys.path:\n",
        "    sys.path.append(module_path)"
      ]
    },
    {
      "cell_type": "code",
      "execution_count": null,
      "metadata": {
        "id": "JMNT6BTfsh4X"
      },
      "outputs": [],
      "source": [
        "import matplotlib\n",
        "import matplotlib.image as img\n",
        "import matplotlib.pyplot as plt\n",
        "import matplotlib.ticker as ticker\n",
        "%matplotlib inline\n",
        "matplotlib.rcParams.update({'font.size': 12})\n",
        "matplotlib.rcParams.update({'figure.figsize': (12,6)})\n",
        "matplotlib.rcParams[\"axes.grid\"] = True"
      ]
    },
    {
      "cell_type": "code",
      "execution_count": null,
      "metadata": {
        "id": "Q8WkoH1psh4Y"
      },
      "outputs": [],
      "source": [
        "from src.metrics import precision_at_k, recall_at_k\n",
        "from src.utils import prefilter_items, get_targets_sec_level, extend_new_user_features, extend_new_item_features, \\\n",
        "extend_user_item_new_features, get_popularity_recommendations, postfilter_items, get_final_recomendations\n",
        "from src.recommenders import MainRecommender"
      ]
    },
    {
      "cell_type": "code",
      "execution_count": null,
      "metadata": {
        "id": "F_PHgYDzsh4Y",
        "outputId": "370dfb83-53df-429a-a771-3a3dadc5bc3c"
      },
      "outputs": [
        {
          "data": {
            "text/html": [
              "<div>\n",
              "<style scoped>\n",
              "    .dataframe tbody tr th:only-of-type {\n",
              "        vertical-align: middle;\n",
              "    }\n",
              "\n",
              "    .dataframe tbody tr th {\n",
              "        vertical-align: top;\n",
              "    }\n",
              "\n",
              "    .dataframe thead th {\n",
              "        text-align: right;\n",
              "    }\n",
              "</style>\n",
              "<table border=\"1\" class=\"dataframe\">\n",
              "  <thead>\n",
              "    <tr style=\"text-align: right;\">\n",
              "      <th></th>\n",
              "      <th>Unnamed: 0</th>\n",
              "      <th>user_id</th>\n",
              "      <th>basket_id</th>\n",
              "      <th>day</th>\n",
              "      <th>item_id</th>\n",
              "      <th>quantity</th>\n",
              "      <th>sales_value</th>\n",
              "      <th>store_id</th>\n",
              "      <th>retail_disc</th>\n",
              "      <th>trans_time</th>\n",
              "      <th>week_no</th>\n",
              "      <th>coupon_disc</th>\n",
              "      <th>coupon_match_disc</th>\n",
              "    </tr>\n",
              "  </thead>\n",
              "  <tbody>\n",
              "    <tr>\n",
              "      <th>0</th>\n",
              "      <td>1832874</td>\n",
              "      <td>1078</td>\n",
              "      <td>35573861879</td>\n",
              "      <td>524</td>\n",
              "      <td>1082185</td>\n",
              "      <td>1</td>\n",
              "      <td>0.56</td>\n",
              "      <td>375</td>\n",
              "      <td>0.0</td>\n",
              "      <td>1440</td>\n",
              "      <td>76</td>\n",
              "      <td>0.0</td>\n",
              "      <td>0.0</td>\n",
              "    </tr>\n",
              "    <tr>\n",
              "      <th>1</th>\n",
              "      <td>402281</td>\n",
              "      <td>324</td>\n",
              "      <td>29170411703</td>\n",
              "      <td>165</td>\n",
              "      <td>7168774</td>\n",
              "      <td>2</td>\n",
              "      <td>6.98</td>\n",
              "      <td>367</td>\n",
              "      <td>0.0</td>\n",
              "      <td>1115</td>\n",
              "      <td>24</td>\n",
              "      <td>0.0</td>\n",
              "      <td>0.0</td>\n",
              "    </tr>\n",
              "    <tr>\n",
              "      <th>2</th>\n",
              "      <td>1348564</td>\n",
              "      <td>1982</td>\n",
              "      <td>32957769022</td>\n",
              "      <td>404</td>\n",
              "      <td>12811490</td>\n",
              "      <td>1</td>\n",
              "      <td>3.99</td>\n",
              "      <td>319</td>\n",
              "      <td>0.0</td>\n",
              "      <td>2101</td>\n",
              "      <td>58</td>\n",
              "      <td>0.0</td>\n",
              "      <td>0.0</td>\n",
              "    </tr>\n",
              "    <tr>\n",
              "      <th>3</th>\n",
              "      <td>1714815</td>\n",
              "      <td>1023</td>\n",
              "      <td>34573871336</td>\n",
              "      <td>495</td>\n",
              "      <td>920025</td>\n",
              "      <td>1</td>\n",
              "      <td>5.99</td>\n",
              "      <td>299</td>\n",
              "      <td>0.0</td>\n",
              "      <td>1643</td>\n",
              "      <td>71</td>\n",
              "      <td>0.0</td>\n",
              "      <td>0.0</td>\n",
              "    </tr>\n",
              "    <tr>\n",
              "      <th>4</th>\n",
              "      <td>1266182</td>\n",
              "      <td>695</td>\n",
              "      <td>32672141822</td>\n",
              "      <td>383</td>\n",
              "      <td>941357</td>\n",
              "      <td>1</td>\n",
              "      <td>3.19</td>\n",
              "      <td>396</td>\n",
              "      <td>0.0</td>\n",
              "      <td>1743</td>\n",
              "      <td>55</td>\n",
              "      <td>0.0</td>\n",
              "      <td>0.0</td>\n",
              "    </tr>\n",
              "  </tbody>\n",
              "</table>\n",
              "</div>"
            ],
            "text/plain": [
              "   Unnamed: 0  user_id    basket_id  day   item_id  quantity  sales_value  \\\n",
              "0     1832874     1078  35573861879  524   1082185         1         0.56   \n",
              "1      402281      324  29170411703  165   7168774         2         6.98   \n",
              "2     1348564     1982  32957769022  404  12811490         1         3.99   \n",
              "3     1714815     1023  34573871336  495    920025         1         5.99   \n",
              "4     1266182      695  32672141822  383    941357         1         3.19   \n",
              "\n",
              "   store_id  retail_disc  trans_time  week_no  coupon_disc  coupon_match_disc  \n",
              "0       375          0.0        1440       76          0.0                0.0  \n",
              "1       367          0.0        1115       24          0.0                0.0  \n",
              "2       319          0.0        2101       58          0.0                0.0  \n",
              "3       299          0.0        1643       71          0.0                0.0  \n",
              "4       396          0.0        1743       55          0.0                0.0  "
            ]
          },
          "execution_count": 4,
          "metadata": {},
          "output_type": "execute_result"
        }
      ],
      "source": [
        "data = pd.read_csv('data/retail_train.csv')\n",
        "item_features = pd.read_csv('data/product.csv')\n",
        "user_features = pd.read_csv('data/hh_demographic.csv')\n",
        "\n",
        "# column processing\n",
        "item_features.columns = [col.lower() for col in item_features.columns]\n",
        "user_features.columns = [col.lower() for col in user_features.columns]\n",
        "\n",
        "item_features.rename(columns={'product_id': 'item_id'}, inplace=True)\n",
        "user_features.rename(columns={'household_key': 'user_id'}, inplace=True)\n",
        "\n",
        "# -- давние покупки -- | -- 6 недель -- | -- 3 недели -- \n",
        "val_lvl_1_size_weeks = 6\n",
        "val_lvl_2_size_weeks = 3\n",
        "\n",
        "data_train_lvl_1 = data[data['week_no'] < data['week_no'].max() - (val_lvl_1_size_weeks + val_lvl_2_size_weeks)]\n",
        "data_val_lvl_1 = data[(data['week_no'] >= data['week_no'].max() - (val_lvl_1_size_weeks + val_lvl_2_size_weeks)) &\n",
        "                      (data['week_no'] < data['week_no'].max() - (val_lvl_2_size_weeks))]\n",
        "\n",
        "data_train_lvl_2 = data_val_lvl_1.copy()\n",
        "data_val_lvl_2 = data[data['week_no'] >= data['week_no'].max() - val_lvl_2_size_weeks]\n",
        "\n",
        "data_train_lvl_1.head(5)"
      ]
    },
    {
      "cell_type": "markdown",
      "metadata": {
        "id": "o318N6B_sh4Z"
      },
      "source": [
        "**Предварительная фильтрация**"
      ]
    },
    {
      "cell_type": "code",
      "execution_count": null,
      "metadata": {
        "id": "zcrBjfGMsh4a",
        "outputId": "5678ff33-7254-4d8b-e209-1c9f0643214e"
      },
      "outputs": [
        {
          "name": "stdout",
          "output_type": "stream",
          "text": [
            "Decreased # items from 33411 to 3001\n"
          ]
        }
      ],
      "source": [
        "n_items_before = data_train_lvl_1['item_id'].nunique()\n",
        "\n",
        "data_train_lvl_1 = prefilter_items(data_train_lvl_1, item_features=item_features, take_n_popular=3000)\n",
        "\n",
        "n_items_after = data_train_lvl_1['item_id'].nunique()\n",
        "print('Decreased # items from {} to {}'.format(n_items_before, n_items_after))"
      ]
    },
    {
      "cell_type": "markdown",
      "metadata": {
        "id": "yD5gOODpsh4a"
      },
      "source": [
        "**Обучаем модель первого уровня**"
      ]
    },
    {
      "cell_type": "code",
      "execution_count": null,
      "metadata": {
        "colab": {
          "referenced_widgets": [
            "f8ed68035d48414b93abc91acc23bdf9",
            "d40e2bef1b9b48e583507836cf5fbda6"
          ]
        },
        "id": "K41UnWpBsh4b",
        "outputId": "920c3fbf-bfd3-4edb-c20d-e87a96d0758e"
      },
      "outputs": [
        {
          "data": {
            "application/vnd.jupyter.widget-view+json": {
              "model_id": "f8ed68035d48414b93abc91acc23bdf9",
              "version_major": 2,
              "version_minor": 0
            },
            "text/plain": [
              "  0%|          | 0/15 [00:00<?, ?it/s]"
            ]
          },
          "metadata": {},
          "output_type": "display_data"
        },
        {
          "data": {
            "application/vnd.jupyter.widget-view+json": {
              "model_id": "d40e2bef1b9b48e583507836cf5fbda6",
              "version_major": 2,
              "version_minor": 0
            },
            "text/plain": [
              "  0%|          | 0/2346 [00:00<?, ?it/s]"
            ]
          },
          "metadata": {},
          "output_type": "display_data"
        }
      ],
      "source": [
        "recommender = MainRecommender(data_train_lvl_1)"
      ]
    },
    {
      "cell_type": "markdown",
      "metadata": {
        "id": "m1WwmJbwsh4b"
      },
      "source": [
        "**Эмбеддинги**"
      ]
    },
    {
      "cell_type": "code",
      "execution_count": null,
      "metadata": {
        "id": "GaUzKBu0sh4b"
      },
      "outputs": [],
      "source": [
        "items_emb_df = recommender.items_emb_df\n",
        "users_emb_df = recommender.users_emb_df"
      ]
    },
    {
      "cell_type": "markdown",
      "metadata": {
        "id": "pLNfrwvbsh4c"
      },
      "source": [
        "**Добавляем новые признаки**"
      ]
    },
    {
      "cell_type": "code",
      "execution_count": null,
      "metadata": {
        "id": "3q5a2uYFsh4c",
        "outputId": "150a2452-d823-400d-a17f-363df5958dab"
      },
      "outputs": [
        {
          "data": {
            "text/html": [
              "<div>\n",
              "<style scoped>\n",
              "    .dataframe tbody tr th:only-of-type {\n",
              "        vertical-align: middle;\n",
              "    }\n",
              "\n",
              "    .dataframe tbody tr th {\n",
              "        vertical-align: top;\n",
              "    }\n",
              "\n",
              "    .dataframe thead th {\n",
              "        text-align: right;\n",
              "    }\n",
              "</style>\n",
              "<table border=\"1\" class=\"dataframe\">\n",
              "  <thead>\n",
              "    <tr style=\"text-align: right;\">\n",
              "      <th></th>\n",
              "      <th>Unnamed: 0</th>\n",
              "      <th>user_id</th>\n",
              "      <th>basket_id</th>\n",
              "      <th>day</th>\n",
              "      <th>item_id</th>\n",
              "      <th>quantity</th>\n",
              "      <th>sales_value</th>\n",
              "      <th>store_id</th>\n",
              "      <th>retail_disc</th>\n",
              "      <th>trans_time</th>\n",
              "      <th>...</th>\n",
              "      <th>19_y</th>\n",
              "      <th>mean_time</th>\n",
              "      <th>age</th>\n",
              "      <th>income</th>\n",
              "      <th>children</th>\n",
              "      <th>avr_bask</th>\n",
              "      <th>sum_per_week</th>\n",
              "      <th>count_purchases_week_mean</th>\n",
              "      <th>sum_purchases_week_mean</th>\n",
              "      <th>target</th>\n",
              "    </tr>\n",
              "  </thead>\n",
              "  <tbody>\n",
              "    <tr>\n",
              "      <th>0</th>\n",
              "      <td>2032473</td>\n",
              "      <td>1501</td>\n",
              "      <td>40399811362</td>\n",
              "      <td>575</td>\n",
              "      <td>8090657</td>\n",
              "      <td>1</td>\n",
              "      <td>2.99</td>\n",
              "      <td>432</td>\n",
              "      <td>-0.30</td>\n",
              "      <td>1447</td>\n",
              "      <td>...</td>\n",
              "      <td>0.000000</td>\n",
              "      <td>0.000000</td>\n",
              "      <td>0.0</td>\n",
              "      <td>0.0</td>\n",
              "      <td>0.0</td>\n",
              "      <td>0.000000</td>\n",
              "      <td>0.000000</td>\n",
              "      <td>1.000000</td>\n",
              "      <td>1.000000</td>\n",
              "      <td>0.0</td>\n",
              "    </tr>\n",
              "    <tr>\n",
              "      <th>1</th>\n",
              "      <td>2103714</td>\n",
              "      <td>1633</td>\n",
              "      <td>40618357715</td>\n",
              "      <td>593</td>\n",
              "      <td>953476</td>\n",
              "      <td>1</td>\n",
              "      <td>0.50</td>\n",
              "      <td>32004</td>\n",
              "      <td>-0.07</td>\n",
              "      <td>1813</td>\n",
              "      <td>...</td>\n",
              "      <td>4.078001</td>\n",
              "      <td>1887.900024</td>\n",
              "      <td>50.0</td>\n",
              "      <td>70.0</td>\n",
              "      <td>0.0</td>\n",
              "      <td>3.147473</td>\n",
              "      <td>15.737366</td>\n",
              "      <td>0.041667</td>\n",
              "      <td>0.036364</td>\n",
              "      <td>0.0</td>\n",
              "    </tr>\n",
              "    <tr>\n",
              "      <th>2</th>\n",
              "      <td>2031107</td>\n",
              "      <td>336</td>\n",
              "      <td>40387622167</td>\n",
              "      <td>574</td>\n",
              "      <td>824663</td>\n",
              "      <td>1</td>\n",
              "      <td>5.79</td>\n",
              "      <td>343</td>\n",
              "      <td>0.00</td>\n",
              "      <td>2057</td>\n",
              "      <td>...</td>\n",
              "      <td>0.000000</td>\n",
              "      <td>0.000000</td>\n",
              "      <td>0.0</td>\n",
              "      <td>0.0</td>\n",
              "      <td>0.0</td>\n",
              "      <td>0.000000</td>\n",
              "      <td>0.000000</td>\n",
              "      <td>0.200000</td>\n",
              "      <td>0.215642</td>\n",
              "      <td>0.0</td>\n",
              "    </tr>\n",
              "    <tr>\n",
              "      <th>3</th>\n",
              "      <td>2019642</td>\n",
              "      <td>2195</td>\n",
              "      <td>40341743149</td>\n",
              "      <td>572</td>\n",
              "      <td>916260</td>\n",
              "      <td>1</td>\n",
              "      <td>1.69</td>\n",
              "      <td>427</td>\n",
              "      <td>0.00</td>\n",
              "      <td>2024</td>\n",
              "      <td>...</td>\n",
              "      <td>0.000000</td>\n",
              "      <td>0.000000</td>\n",
              "      <td>0.0</td>\n",
              "      <td>0.0</td>\n",
              "      <td>0.0</td>\n",
              "      <td>0.000000</td>\n",
              "      <td>0.000000</td>\n",
              "      <td>0.111111</td>\n",
              "      <td>0.166012</td>\n",
              "      <td>0.0</td>\n",
              "    </tr>\n",
              "    <tr>\n",
              "      <th>4</th>\n",
              "      <td>2162153</td>\n",
              "      <td>2107</td>\n",
              "      <td>40788501083</td>\n",
              "      <td>607</td>\n",
              "      <td>916122</td>\n",
              "      <td>2</td>\n",
              "      <td>14.68</td>\n",
              "      <td>450</td>\n",
              "      <td>-2.94</td>\n",
              "      <td>1251</td>\n",
              "      <td>...</td>\n",
              "      <td>-7.727289</td>\n",
              "      <td>1609.187500</td>\n",
              "      <td>40.0</td>\n",
              "      <td>95.0</td>\n",
              "      <td>0.0</td>\n",
              "      <td>2.628125</td>\n",
              "      <td>7.008333</td>\n",
              "      <td>0.080000</td>\n",
              "      <td>0.108660</td>\n",
              "      <td>1.0</td>\n",
              "    </tr>\n",
              "  </tbody>\n",
              "</table>\n",
              "<p>5 rows × 80 columns</p>\n",
              "</div>"
            ],
            "text/plain": [
              "   Unnamed: 0  user_id    basket_id  day  item_id  quantity  sales_value  \\\n",
              "0     2032473     1501  40399811362  575  8090657         1         2.99   \n",
              "1     2103714     1633  40618357715  593   953476         1         0.50   \n",
              "2     2031107      336  40387622167  574   824663         1         5.79   \n",
              "3     2019642     2195  40341743149  572   916260         1         1.69   \n",
              "4     2162153     2107  40788501083  607   916122         2        14.68   \n",
              "\n",
              "   store_id  retail_disc  trans_time  ...      19_y    mean_time   age  \\\n",
              "0       432        -0.30        1447  ...  0.000000     0.000000   0.0   \n",
              "1     32004        -0.07        1813  ...  4.078001  1887.900024  50.0   \n",
              "2       343         0.00        2057  ...  0.000000     0.000000   0.0   \n",
              "3       427         0.00        2024  ...  0.000000     0.000000   0.0   \n",
              "4       450        -2.94        1251  ... -7.727289  1609.187500  40.0   \n",
              "\n",
              "   income  children  avr_bask sum_per_week count_purchases_week_mean  \\\n",
              "0     0.0       0.0  0.000000     0.000000                  1.000000   \n",
              "1    70.0       0.0  3.147473    15.737366                  0.041667   \n",
              "2     0.0       0.0  0.000000     0.000000                  0.200000   \n",
              "3     0.0       0.0  0.000000     0.000000                  0.111111   \n",
              "4    95.0       0.0  2.628125     7.008333                  0.080000   \n",
              "\n",
              "  sum_purchases_week_mean target  \n",
              "0                1.000000    0.0  \n",
              "1                0.036364    0.0  \n",
              "2                0.215642    0.0  \n",
              "3                0.166012    0.0  \n",
              "4                0.108660    1.0  \n",
              "\n",
              "[5 rows x 80 columns]"
            ]
          },
          "execution_count": 8,
          "metadata": {},
          "output_type": "execute_result"
        }
      ],
      "source": [
        "# Количество рекомендаций\n",
        "N = 100\n",
        "train = extend_user_item_new_features(data_train_lvl_2, data_train_lvl_1, recommender, item_features, user_features, items_emb_df, users_emb_df, N)\n",
        "train.head()"
      ]
    },
    {
      "cell_type": "code",
      "execution_count": null,
      "metadata": {
        "id": "usfwNGjwsh4c"
      },
      "outputs": [],
      "source": [
        "X_train = train.drop(['target'], axis=1)\n",
        "y_train = train['target'].ravel()"
      ]
    },
    {
      "cell_type": "code",
      "execution_count": null,
      "metadata": {
        "id": "tUqoLB4ish4d"
      },
      "outputs": [],
      "source": [
        "cat_features=[]\n",
        "for col in X_train.columns:\n",
        "    if X_train[col].dtype == object:\n",
        "          cat_features.append(col)\n",
        "            \n",
        "X_train[cat_features + ['user_id', 'item_id']] = X_train[cat_features + ['user_id', 'item_id']].astype('category')"
      ]
    },
    {
      "cell_type": "code",
      "execution_count": null,
      "metadata": {
        "id": "IY5v6H9Csh4d"
      },
      "outputs": [],
      "source": [
        "test = extend_user_item_new_features(data_val_lvl_2, data_val_lvl_1, recommender, item_features, user_features, items_emb_df, users_emb_df, N)\n",
        "X_test = test.drop(['target'], axis=1)\n",
        "y_test = test['target'].ravel()\n",
        "X_test[cat_features + ['user_id', 'item_id']] = X_test[cat_features + ['user_id', 'item_id']].astype('category')"
      ]
    },
    {
      "cell_type": "code",
      "execution_count": null,
      "metadata": {
        "id": "WL_HpuwKsh4d"
      },
      "outputs": [],
      "source": [
        "%%time\n",
        "# lgb = LGBMClassifier(objective='binary', max_depth = 7, categorical_column=cat_features)\n",
        "# lgb.fit(X_train, y_train)\n",
        "lgb = LGBMClassifier(objective='binary', max_depth=7)\n",
        "lgb.fit(X_train, y_train, categorical_feature=cat_features)\n"
      ]
    },
    {
      "cell_type": "code",
      "execution_count": null,
      "metadata": {
        "id": "UHGEURiDsh4d"
      },
      "outputs": [],
      "source": [
        "def get_important_features(model, X_train, y_train):\n",
        "    # Отбор важных признаков\n",
        "    model.fit(X_train, y_train)\n",
        "    feature = list(zip(X_train.columns.tolist(), model.feature_importances_))\n",
        "    feature = pd.DataFrame(feature, columns=['feature', 'value'])\n",
        "    features = feature.loc[feature.value > 0, 'feature'].tolist()\n",
        "    return features"
      ]
    },
    {
      "cell_type": "code",
      "execution_count": null,
      "metadata": {
        "id": "OBRpq-Mjsh4e"
      },
      "outputs": [],
      "source": [
        "important_features = get_important_features(lgb, X_train, y_train)"
      ]
    },
    {
      "cell_type": "markdown",
      "metadata": {
        "id": "EPa3gQxash4e"
      },
      "source": [
        "**Обучаем модель второго уровня**"
      ]
    },
    {
      "cell_type": "code",
      "execution_count": null,
      "metadata": {
        "id": "DrqpQka8sh4e"
      },
      "outputs": [],
      "source": [
        "%%time\n",
        "lgb.fit(X_train[important_features], y_train)"
      ]
    },
    {
      "cell_type": "code",
      "execution_count": null,
      "metadata": {
        "id": "4sI2rMUIsh4e"
      },
      "outputs": [],
      "source": [
        "preds = lgb.predict(X_test[important_features])\n",
        "test_preds_proba = lgb.predict_proba(X_test[important_features])[:, 1]"
      ]
    },
    {
      "cell_type": "markdown",
      "metadata": {
        "id": "E_jKC04hsh4f"
      },
      "source": [
        "**Финальная фильтрация данных**"
      ]
    },
    {
      "cell_type": "code",
      "execution_count": null,
      "metadata": {
        "id": "PLJ9Yupysh4f"
      },
      "outputs": [],
      "source": [
        "from tqdm.notebook import tqdm_notebook\n",
        "tqdm_notebook.pandas()"
      ]
    },
    {
      "cell_type": "code",
      "execution_count": null,
      "metadata": {
        "id": "pRJ1CjJAsh4f"
      },
      "outputs": [],
      "source": [
        "result = get_final_recomendations(X_test, test_preds_proba, data, data_train_lvl_1, item_features)"
      ]
    },
    {
      "cell_type": "code",
      "execution_count": null,
      "metadata": {
        "id": "DeCLWfU9sh4f"
      },
      "outputs": [],
      "source": [
        "result.head()"
      ]
    },
    {
      "cell_type": "markdown",
      "metadata": {
        "id": "YYRUkh0vsh4f"
      },
      "source": [
        "**Метрика precision@5**"
      ]
    },
    {
      "cell_type": "code",
      "execution_count": null,
      "metadata": {
        "id": "y2P4VRDksh4f"
      },
      "outputs": [],
      "source": [
        "# Точность\n",
        "result.apply(lambda row: precision_at_k(row['recomendations'], row['actual'], k=5), axis=1).mean()"
      ]
    },
    {
      "cell_type": "markdown",
      "metadata": {
        "id": "pCfq2om6sh4g"
      },
      "source": [
        "**Сохранение предсказаний**"
      ]
    },
    {
      "cell_type": "code",
      "execution_count": null,
      "metadata": {
        "id": "LBOEXf8msh4g"
      },
      "outputs": [],
      "source": [
        "result.drop('actual', axis=1, inplace=True)\n",
        "result.to_csv('recommendations.csv', index=False)"
      ]
    }
  ],
  "metadata": {
    "colab": {
      "provenance": [],
      "include_colab_link": true
    },
    "kernelspec": {
      "display_name": "Python 3 (ipykernel)",
      "language": "python",
      "name": "python3"
    },
    "language_info": {
      "codemirror_mode": {
        "name": "ipython",
        "version": 3
      },
      "file_extension": ".py",
      "mimetype": "text/x-python",
      "name": "python",
      "nbconvert_exporter": "python",
      "pygments_lexer": "ipython3",
      "version": "3.9.16"
    }
  },
  "nbformat": 4,
  "nbformat_minor": 0
}