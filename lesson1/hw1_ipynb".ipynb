{
  "cells": [
    {
      "cell_type": "markdown",
      "metadata": {
        "id": "view-in-github",
        "colab_type": "text"
      },
      "source": [
        "<a href=\"https://colab.research.google.com/github/ddekun/Recommendation_systems/blob/lesson1/lesson1/hw1_ipynb%22.ipynb\" target=\"_parent\"><img src=\"https://colab.research.google.com/assets/colab-badge.svg\" alt=\"Open In Colab\"/></a>"
      ]
    },
    {
      "cell_type": "markdown",
      "id": "425a10d7-caa9-4f84-abff-f528aeb4ab80",
      "metadata": {
        "id": "425a10d7-caa9-4f84-abff-f528aeb4ab80"
      },
      "source": [
        "# Домашнее задание №1\n",
        "\n",
        "На семинаре мы проходили метрики, необходимо реализовать некоторые из них"
      ]
    },
    {
      "cell_type": "code",
      "execution_count": 1,
      "id": "6f4acf2d-e8a0-469a-8463-6dc26521c554",
      "metadata": {
        "id": "6f4acf2d-e8a0-469a-8463-6dc26521c554"
      },
      "outputs": [],
      "source": [
        "import numpy as np\n",
        "import pandas as pd"
      ]
    },
    {
      "cell_type": "markdown",
      "id": "38a80a25-4ea6-49c9-a0f4-c7fc2a80dcc1",
      "metadata": {
        "id": "38a80a25-4ea6-49c9-a0f4-c7fc2a80dcc1"
      },
      "source": [
        "## Задание 1. Реализовать метрики Recall@k и  Money Recall@k\n",
        "\n",
        "*Recall* - доля рекомендованных товаров среди релевантных = Какой % купленных товаров был среди рекомендованных\n",
        "\n",
        "$$\\Large Recall@K(i) = \\frac {\\sum_{j=1}^{K}\\mathbb{1}_{r_{ij}}}{|Rel_i|}$$\n",
        "\n",
        "$\\Large |Rel_i|$ -- количество релевантных товаров для пользователя $i$\n",
        "\n",
        "$$\\Large MoneyRecall@K(i) = \\frac {\\sum_{j=1}^{K}\\mathbb{1}_{r_{ij}}\\cdot Price(j)}{\\sum_{s\\in Rel_i}Price(s)}$$\n"
      ]
    },
    {
      "cell_type": "code",
      "source": [
        "recommended_list = [143, 156, 1134, 991, 27, 1543, 3345, 533, 11, 43]\n",
        "bought_list = [521, 32, 143, 991]"
      ],
      "metadata": {
        "id": "zharw0MMwVOe"
      },
      "id": "zharw0MMwVOe",
      "execution_count": 5,
      "outputs": []
    },
    {
      "cell_type": "code",
      "execution_count": 3,
      "id": "34a7db81-664c-4c9b-92c0-d565fa5487fc",
      "metadata": {
        "id": "34a7db81-664c-4c9b-92c0-d565fa5487fc"
      },
      "outputs": [],
      "source": [
        "def recall_at_k(recommended_list, bought_list, k=5):\n",
        "    \n",
        "    bought_list = np.array(bought_list)\n",
        "    recommended_list = np.array(recommended_list)\n",
        "\n",
        "    bought_list_recommended = np.isin(bought_list, recommended_list[:k])\n",
        "    recall = np.sum(bought_list_recommended) / len(bought_list)\n",
        "    \n",
        "    return recall\n",
        "\n",
        "\n",
        "def money_recall_at_k(recommended_list, bought_list, prices_recommended, prices_bought, k=5):\n",
        "    bought_list = np.array(bought_list)\n",
        "    recommended_list = np.array(recommended_list)\n",
        "    prices_recommended = np.array(prices_recommended)\n",
        "    prices_bought = np.array(prices_bought)\n",
        "\n",
        "    recall = recall_at_k(recommended_list, bought_list, k)\n",
        "    money_spent_recommended = np.sum(prices_recommended[np.isin(recommended_list[:k], bought_list)])\n",
        "    money_spent_bought = np.sum(prices_bought[np.isin(bought_list, recommended_list[:k])])\n",
        "    money_recall = recall * (money_spent_recommended / money_spent_bought)\n",
        "    \n",
        "    return money_recall"
      ]
    },
    {
      "cell_type": "code",
      "source": [
        "recall_at_k(recommended_list, bought_list, k=5)"
      ],
      "metadata": {
        "colab": {
          "base_uri": "https://localhost:8080/"
        },
        "id": "heiwvGkvwf8f",
        "outputId": "4c3a9beb-bac1-4f6a-aacc-a80641eb66e8"
      },
      "id": "heiwvGkvwf8f",
      "execution_count": 6,
      "outputs": [
        {
          "output_type": "execute_result",
          "data": {
            "text/plain": [
              "0.5"
            ]
          },
          "metadata": {},
          "execution_count": 6
        }
      ]
    },
    {
      "cell_type": "markdown",
      "id": "b42d4d0d-6073-47b6-ad54-586a477405e5",
      "metadata": {
        "id": "b42d4d0d-6073-47b6-ad54-586a477405e5"
      },
      "source": [
        "## Задание 2. Реализовать метрику MRR@k\n",
        "\n",
        "Mean Reciprocal Rank\n",
        "\n",
        "- Считаем для первых k рекоммендаций\n",
        "- Найти ранк первого релевантного предсказания $\\Large rank_j$\n",
        "- Посчитать reciprocal rank = $\\Large\\frac{1}{rank_j}$\n",
        "\n",
        "$$\\Large  MMR(i)@k=\\frac {1}{\\min\\limits_{j\\in Rel(i)} rank_j}$$"
      ]
    },
    {
      "cell_type": "code",
      "execution_count": 11,
      "id": "9c8940da-3621-4a54-8236-810a42ed4b77",
      "metadata": {
        "id": "9c8940da-3621-4a54-8236-810a42ed4b77"
      },
      "outputs": [],
      "source": [
        "def mrr_at_k(recommended_list, bought_list, k=5):\n",
        "    bought_list = np.array(bought_list)\n",
        "    recommended_list = np.array(recommended_list)\n",
        "    \n",
        "    rr = np.zeros(k)\n",
        "    for i in range(k):\n",
        "        if recommended_list[i] in bought_list:\n",
        "            rr[i] = 1 / (i+1)\n",
        "    \n",
        "    mrr = np.sum(rr) / np.min([k, len(bought_list)])\n",
        "    \n",
        "    return mrr"
      ]
    },
    {
      "cell_type": "code",
      "source": [
        "mrr_at_k(recommended_list, bought_list, k=5)"
      ],
      "metadata": {
        "colab": {
          "base_uri": "https://localhost:8080/"
        },
        "id": "H9sGcU8-x81J",
        "outputId": "1348b78f-0263-4313-aee3-033f1e6e5581"
      },
      "id": "H9sGcU8-x81J",
      "execution_count": 12,
      "outputs": [
        {
          "output_type": "execute_result",
          "data": {
            "text/plain": [
              "0.3125"
            ]
          },
          "metadata": {},
          "execution_count": 12
        }
      ]
    },
    {
      "cell_type": "markdown",
      "id": "1c3008cc-fd9e-44c6-8913-43d71ffb9cd7",
      "metadata": {
        "id": "1c3008cc-fd9e-44c6-8913-43d71ffb9cd7"
      },
      "source": [
        "## Задание 3*. Реализовать метрику nDCG@k\n",
        "Normalized discounted cumulative gain. Эту метрику реализовать будет немного сложнее.\n",
        "\n",
        "$$\\Large DCG@K(i) = \\sum_{j=1}^{K}\\frac{\\mathbb{1}_{r_{ij}}}{\\log_2 (j+1)}$$\n",
        "\n",
        "\n",
        "$\\Large \\mathbb{1}_{r_{ij}}$ -- индикаторная функция показывает что пользователь $i$ провзаимодействовал с продуктом $j$\n",
        "\n",
        "Для подсчета $nDCG$ нам необходимо найти максимально возможный $DCG$ для пользователя $i$  и рекомендаций длины $K$.\n",
        "Максимальный $DCG$ достигается когда мы порекомендовали максимально возможное количество релевантных продуктов и все они в начале списка рекомендаций.\n",
        "\n",
        "$$\\Large IDCG@K(i) = max(DCG@K(i)) = \\sum_{j=1}^{K}\\frac{\\mathbb{1}_{j\\le|Rel_i|}}{\\log_2 (j+1)}$$\n",
        "\n",
        "$$\\Large nDCG@K(i) = \\frac {DCG@K(i)}{IDCG@K(i)}$$\n",
        "\n",
        "$\\Large |Rel_i|$ -- количество релевантных продуктов для пользователя $i$\n",
        "\n"
      ]
    },
    {
      "cell_type": "code",
      "execution_count": 13,
      "id": "67d7e53c-dfd8-4423-a107-f85880a45c7e",
      "metadata": {
        "id": "67d7e53c-dfd8-4423-a107-f85880a45c7e"
      },
      "outputs": [],
      "source": [
        "def ndcg_at_k(recommended_list, bought_list, k=5):\n",
        "    bought_list = np.array(bought_list)\n",
        "    recommended_list = np.array(recommended_list)\n",
        "    \n",
        "    relevance_scores = np.isin(recommended_list[:k], bought_list).astype(int)\n",
        "    dcg = np.sum(relevance_scores / np.log2(np.arange(2, k+2)))\n",
        "    sorted_relevance_scores = np.sort(np.isin(bought_list, recommended_list)[:k])[::-1]\n",
        "    ideal_dcg = np.sum(sorted_relevance_scores / np.log2(np.arange(2, k+2)))\n",
        "    ndcg = dcg / ideal_dcg\n",
        "    \n",
        "    return ndcg"
      ]
    },
    {
      "cell_type": "code",
      "source": [
        "ndcg_at_k(recommended_list, bought_list, k=4)"
      ],
      "metadata": {
        "colab": {
          "base_uri": "https://localhost:8080/"
        },
        "id": "7w5xI7JXzlMU",
        "outputId": "70af51da-61e2-4f52-ec87-baab09efc094"
      },
      "id": "7w5xI7JXzlMU",
      "execution_count": 18,
      "outputs": [
        {
          "output_type": "execute_result",
          "data": {
            "text/plain": [
              "0.8772153153380493"
            ]
          },
          "metadata": {},
          "execution_count": 18
        }
      ]
    }
  ],
  "metadata": {
    "kernelspec": {
      "display_name": "Python 3 (ipykernel)",
      "language": "python",
      "name": "python3"
    },
    "language_info": {
      "codemirror_mode": {
        "name": "ipython",
        "version": 3
      },
      "file_extension": ".py",
      "mimetype": "text/x-python",
      "name": "python",
      "nbconvert_exporter": "python",
      "pygments_lexer": "ipython3",
      "version": "3.9.12"
    },
    "colab": {
      "provenance": [],
      "include_colab_link": true
    }
  },
  "nbformat": 4,
  "nbformat_minor": 5
}